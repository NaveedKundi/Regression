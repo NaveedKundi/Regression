{
  "nbformat": 4,
  "nbformat_minor": 0,
  "metadata": {
    "colab": {
      "name": "Regression2.ipynb",
      "version": "0.3.2",
      "provenance": [],
      "include_colab_link": true
    },
    "kernelspec": {
      "name": "python3",
      "display_name": "Python 3"
    }
  },
  "cells": [
    {
      "cell_type": "markdown",
      "metadata": {
        "id": "view-in-github",
        "colab_type": "text"
      },
      "source": [
        "<a href=\"https://colab.research.google.com/github/NaveedKundi/Regression/blob/master/Regression2.ipynb\" target=\"_parent\"><img src=\"https://colab.research.google.com/assets/colab-badge.svg\" alt=\"Open In Colab\"/></a>"
      ]
    },
    {
      "cell_type": "code",
      "metadata": {
        "id": "ZNrodBmnUNrD",
        "colab_type": "code",
        "colab": {}
      },
      "source": [
        "X2 = [x ** 2 for x in X]\n",
        "XY = [x*y for x,y in zip(X,Y)]"
      ],
      "execution_count": 0,
      "outputs": []
    },
    {
      "cell_type": "code",
      "metadata": {
        "id": "QewAq6tOVr_b",
        "colab_type": "code",
        "colab": {}
      },
      "source": [
        ""
      ],
      "execution_count": 0,
      "outputs": []
    },
    {
      "cell_type": "code",
      "metadata": {
        "id": "uRoFbZ8JVeAj",
        "colab_type": "code",
        "colab": {}
      },
      "source": [
        "X = [20,25,30,35]\n",
        "Y = [10, 30, 50, 70]"
      ],
      "execution_count": 0,
      "outputs": []
    },
    {
      "cell_type": "code",
      "metadata": {
        "id": "N6Cu9CovVAJK",
        "colab_type": "code",
        "colab": {}
      },
      "source": [
        "n = len(X)"
      ],
      "execution_count": 0,
      "outputs": []
    },
    {
      "cell_type": "code",
      "metadata": {
        "id": "phhNYZj4VtQk",
        "colab_type": "code",
        "colab": {}
      },
      "source": [
        "a = ((sum(Y)*sum(X2)) - (sum(X)*sum(XY)))/(n*sum(X2) - sum(X)**2)\n",
        "b = (n*sum(XY) - (sum(X)*sum(Y)))/(n*sum(X2) - sum(X)**2)"
      ],
      "execution_count": 0,
      "outputs": []
    },
    {
      "cell_type": "code",
      "metadata": {
        "id": "V_b2Ib1JVtex",
        "colab_type": "code",
        "colab": {
          "base_uri": "https://localhost:8080/",
          "height": 54
        },
        "outputId": "a602f2f6-31a4-4914-d13e-fbd220f0dcbe"
      },
      "source": [
        "print(\"a: \", a)\n",
        "print(\"b: \", b)"
      ],
      "execution_count": 6,
      "outputs": [
        {
          "output_type": "stream",
          "text": [
            "a:  -70.0\n",
            "b:  4.0\n"
          ],
          "name": "stdout"
        }
      ]
    },
    {
      "cell_type": "code",
      "metadata": {
        "id": "_snLcyk-WR-q",
        "colab_type": "code",
        "colab": {}
      },
      "source": [
        "def f(a,b,x):\n",
        "  return a + b*x"
      ],
      "execution_count": 0,
      "outputs": []
    },
    {
      "cell_type": "code",
      "metadata": {
        "id": "Uc5ZjlG6V9Wn",
        "colab_type": "code",
        "colab": {
          "base_uri": "https://localhost:8080/",
          "height": 35
        },
        "outputId": "adc126fd-8930-4b81-9c9c-8f887c8c7839"
      },
      "source": [
        "\n",
        "\n",
        "f(a,b,20)"
      ],
      "execution_count": 9,
      "outputs": [
        {
          "output_type": "execute_result",
          "data": {
            "text/plain": [
              "10.0"
            ]
          },
          "metadata": {
            "tags": []
          },
          "execution_count": 9
        }
      ]
    },
    {
      "cell_type": "code",
      "metadata": {
        "id": "MiAjFwzRWB3m",
        "colab_type": "code",
        "colab": {
          "base_uri": "https://localhost:8080/",
          "height": 35
        },
        "outputId": "877c13c7-ce2d-4b2a-c2af-6224b3733841"
      },
      "source": [
        "f(a,b,37)"
      ],
      "execution_count": 10,
      "outputs": [
        {
          "output_type": "execute_result",
          "data": {
            "text/plain": [
              "78.0"
            ]
          },
          "metadata": {
            "tags": []
          },
          "execution_count": 10
        }
      ]
    },
    {
      "cell_type": "code",
      "metadata": {
        "id": "15s2l_zxWYNY",
        "colab_type": "code",
        "colab": {}
      },
      "source": [
        "X_test = [15, 30, 40]"
      ],
      "execution_count": 0,
      "outputs": []
    },
    {
      "cell_type": "code",
      "metadata": {
        "id": "c7YwFFm4WeyC",
        "colab_type": "code",
        "colab": {}
      },
      "source": [
        "y_pred = [f(a,2,x) for x in X_test]"
      ],
      "execution_count": 0,
      "outputs": []
    },
    {
      "cell_type": "code",
      "metadata": {
        "id": "vLWR-WvMWiGC",
        "colab_type": "code",
        "colab": {
          "base_uri": "https://localhost:8080/",
          "height": 269
        },
        "outputId": "dd2228fc-2d79-40c3-d6d9-79c425c94e3f"
      },
      "source": [
        "import matplotlib.pyplot as plt\n",
        "\n",
        "plt.scatter(X,Y)\n",
        "plt.plot(X_test, y_pred)\n",
        "plt.show()"
      ],
      "execution_count": 13,
      "outputs": [
        {
          "output_type": "display_data",
          "data": {
            "image/png": "[encoded data removed]",
            "text/plain": [
              "<Figure size 432x288 with 1 Axes>"
            ]
          },
          "metadata": {
            "tags": []
          }
        }
      ]
    },
    {
      "cell_type": "code",
      "metadata": {
        "id": "x0FTltJlWlJ6",
        "colab_type": "code",
        "colab": {
          "base_uri": "https://localhost:8080/",
          "height": 35
        },
        "outputId": "0e4bacf2-5d17-42c1-d88e-37403357721c"
      },
      "source": [
        "f(0,0, 20)"
      ],
      "execution_count": 14,
      "outputs": [
        {
          "output_type": "execute_result",
          "data": {
            "text/plain": [
              "0"
            ]
          },
          "metadata": {
            "tags": []
          },
          "execution_count": 14
        }
      ]
    },
    {
      "cell_type": "code",
      "metadata": {
        "id": "Xz8B-1b5XLy0",
        "colab_type": "code",
        "colab": {}
      },
      "source": [
        "w = [0,0]\n",
        "alpha = 0.0001\n",
        "epochs = 10\n",
        "m = len(X)"
      ],
      "execution_count": 0,
      "outputs": []
    },
    {
      "cell_type": "code",
      "metadata": {
        "id": "itxOjRTVXRiv",
        "colab_type": "code",
        "colab": {
          "base_uri": "https://localhost:8080/",
          "height": 199
        },
        "outputId": "bfcac619-453c-42eb-df09-958313a7407d"
      },
      "source": [
        "for i in range(epochs):\n",
        "  squared_error = 0\n",
        "  error = list()\n",
        "  for x,y in zip(X,Y):\n",
        "    prediction = f(w[0], w[1], x)\n",
        "    error.append(y - prediction) \n",
        "    squared_error += (y - prediction ** 2)\n",
        "  w[0] = w[0] + alpha *(2/m) * (sum(error))\n",
        "  w[1] = w[1] + alpha * (2/m)* (sum([e*x for e,x in zip(error, X)]))\n",
        "  print(\"MSE: \", squared_error/len(X), \"Weights: \", w)"
      ],
      "execution_count": 23,
      "outputs": [
        {
          "output_type": "stream",
          "text": [
            "MSE:  -1843.1818015512813 Weights:  [0.03677525428470466, 1.546537120448538]\n",
            "MSE:  -1846.6538773205546 Weights:  [0.03626194507138076, 1.5477552600793274]\n",
            "MSE:  -1849.5809155898228 Weights:  [0.03574203875193018, 1.5487843659189406]\n",
            "MSE:  -1852.0481436292234 Weights:  [0.03521657633162562, 1.549654247073572]\n",
            "MSE:  -1854.1275584567445 Weights:  [0.03468643465745465, 1.5503900119896603]\n",
            "MSE:  -1855.8799523060668 Weights:  [0.034152352304580025, 1.5510128097106728]\n",
            "MSE:  -1857.3566363687005 Weights:  [0.03361495138071041, 1.5515404542435667]\n",
            "MSE:  -1858.6009052553968 Weights:  [0.03307475589209465, 1.551987950467611]\n",
            "MSE:  -1859.649279420349 Weights:  [0.03253220721334437, 1.5523679371115557]\n",
            "MSE:  -1860.5325579770265 Weights:  [0.031987677117788146, 1.5526910598768124]\n"
          ],
          "name": "stdout"
        }
      ]
    },
    {
      "cell_type": "code",
      "metadata": {
        "id": "xqAu8xLDXVP8",
        "colab_type": "code",
        "colab": {
          "base_uri": "https://localhost:8080/",
          "height": 35
        },
        "outputId": "4f883fc7-09ee-4dd5-99e4-c408f6ff5ff4"
      },
      "source": [
        "f(w[0], w[1], 20)"
      ],
      "execution_count": 24,
      "outputs": [
        {
          "output_type": "execute_result",
          "data": {
            "text/plain": [
              "31.085808874654035"
            ]
          },
          "metadata": {
            "tags": []
          },
          "execution_count": 24
        }
      ]
    },
    {
      "cell_type": "code",
      "metadata": {
        "id": "_UyhoMfkXcT_",
        "colab_type": "code",
        "colab": {}
      },
      "source": [
        ""
      ],
      "execution_count": 0,
      "outputs": []
    }
  ]
}